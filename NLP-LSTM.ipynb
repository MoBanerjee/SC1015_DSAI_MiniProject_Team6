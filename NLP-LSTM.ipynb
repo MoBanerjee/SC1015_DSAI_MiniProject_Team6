{
 "cells": [
  {
   "cell_type": "markdown",
   "metadata": {},
   "source": [
    "# LSTM\n",
    "\n",
    "## Lyrics Data"
   ]
  },
  {
   "cell_type": "code",
   "execution_count": 15,
   "metadata": {
    "id": "mcd8PeToBMLX"
   },
   "outputs": [],
   "source": [
    "import pandas as pd\n",
    "import numpy as np\n",
    "import re\n",
    "import tensorflow as tf\n",
    "from tensorflow.keras.preprocessing.text import Tokenizer\n",
    "from tensorflow.keras.preprocessing.sequence import pad_sequences\n",
    "from tensorflow.keras.models import Sequential\n",
    "from tensorflow.keras.layers import Embedding, Bidirectional, LSTM, Dense, Dropout\n",
    "from sklearn.model_selection import train_test_split\n",
    "from sklearn.metrics import mean_absolute_error, mean_squared_error"
   ]
  },
  {
   "cell_type": "code",
   "execution_count": 2,
   "metadata": {
    "id": "zxxBbMj8BR6_"
   },
   "outputs": [],
   "source": [
    "dataset = pd.read_csv('Final Datasets/dataCleaned.csv')"
   ]
  },
  {
   "cell_type": "code",
   "execution_count": 3,
   "metadata": {
    "id": "2g5DeSUcBdxQ"
   },
   "outputs": [],
   "source": [
    "def clean_text(text):\n",
    "    text = re.sub(r\"[^a-zA-Z']\", \" \", text)          # Remove non-alphabetic characters\n",
    "    text = re.sub(r\"\\s+[a-zA-Z]\\s+\", \" \", text)      # Remove single characters\n",
    "    text = text.lower()                              # Convert text to lower case\n",
    "    return text"
   ]
  },
  {
   "cell_type": "code",
   "execution_count": 4,
   "metadata": {
    "id": "9iY0D0HRByIw"
   },
   "outputs": [],
   "source": [
    "dataset['Lyric'] = dataset['Lyric'].apply(clean_text)"
   ]
  },
  {
   "cell_type": "code",
   "execution_count": 5,
   "metadata": {
    "id": "j62_QBosB7Zn"
   },
   "outputs": [],
   "source": [
    "# Prepare the data\n",
    "lyrics = dataset['Lyric'].tolist()\n",
    "popularity = dataset['popularity'].tolist()"
   ]
  },
  {
   "cell_type": "code",
   "execution_count": 6,
   "metadata": {
    "id": "--RSmuKlCBJ6"
   },
   "outputs": [],
   "source": [
    "# Tokenize and pad the lyrics\n",
    "max_len = 100\n",
    "tokenizer = Tokenizer()\n",
    "tokenizer.fit_on_texts(lyrics)\n",
    "vocab_size = len(tokenizer.word_index) + 1\n",
    "sequences = tokenizer.texts_to_sequences(lyrics)\n",
    "padded_sequences = pad_sequences(sequences, maxlen=max_len, padding='post')"
   ]
  },
  {
   "cell_type": "code",
   "execution_count": 7,
   "metadata": {
    "id": "cC-gQOlcCIeD"
   },
   "outputs": [],
   "source": [
    "# Convert lists to NumPy arrays\n",
    "padded_sequences = np.asarray(padded_sequences)\n",
    "popularity = np.asarray(popularity)\n",
    "\n",
    "# Split the dataset\n",
    "X_train, X_test, y_train, y_test = train_test_split(padded_sequences, popularity, test_size=0.2, random_state=42)"
   ]
  },
  {
   "cell_type": "code",
   "execution_count": 8,
   "metadata": {
    "id": "x-OGdn4uCSjw"
   },
   "outputs": [],
   "source": [
    "# Build the model\n",
    "embedding_dim = 100\n",
    "model = Sequential()\n",
    "model.add(Embedding(vocab_size, embedding_dim, input_length=max_len))\n",
    "model.add(Bidirectional(LSTM(64, return_sequences=True)))\n",
    "model.add(Bidirectional(LSTM(32)))\n",
    "model.add(Dense(64, activation='relu'))\n",
    "model.add(Dropout(0.5))\n",
    "model.add(Dense(1, activation='linear'))"
   ]
  },
  {
   "cell_type": "code",
   "execution_count": 9,
   "metadata": {
    "id": "93T3KsMxCVvh"
   },
   "outputs": [],
   "source": [
    "# Compile the model\n",
    "model.compile(loss='mean_squared_error', optimizer='adam', metrics=['mae'])"
   ]
  },
  {
   "cell_type": "code",
   "execution_count": 10,
   "metadata": {
    "colab": {
     "base_uri": "https://localhost:8080/"
    },
    "id": "T_xxA90PCYvl",
    "outputId": "e4ec25fc-beea-44de-c092-f61e64268c5f"
   },
   "outputs": [
    {
     "name": "stdout",
     "output_type": "stream",
     "text": [
      "Epoch 1/20\n",
      "420/420 [==============================] - 307s 694ms/step - loss: 0.0410 - mae: 0.1626 - val_loss: 0.0342 - val_mae: 0.1481\n",
      "Epoch 2/20\n",
      "420/420 [==============================] - 299s 713ms/step - loss: 0.0308 - mae: 0.1388 - val_loss: 0.0364 - val_mae: 0.1520\n",
      "Epoch 3/20\n",
      "420/420 [==============================] - 294s 700ms/step - loss: 0.0207 - mae: 0.1116 - val_loss: 0.0385 - val_mae: 0.1562\n",
      "Epoch 4/20\n",
      "420/420 [==============================] - 291s 694ms/step - loss: 0.0150 - mae: 0.0944 - val_loss: 0.0407 - val_mae: 0.1606\n",
      "Epoch 5/20\n",
      "420/420 [==============================] - 292s 696ms/step - loss: 0.0107 - mae: 0.0787 - val_loss: 0.0443 - val_mae: 0.1664\n",
      "Epoch 6/20\n",
      "420/420 [==============================] - 294s 700ms/step - loss: 0.0083 - mae: 0.0687 - val_loss: 0.0431 - val_mae: 0.1646\n",
      "Epoch 7/20\n",
      "420/420 [==============================] - 307s 731ms/step - loss: 0.0067 - mae: 0.0615 - val_loss: 0.0448 - val_mae: 0.1673\n",
      "Epoch 8/20\n",
      "420/420 [==============================] - 309s 734ms/step - loss: 0.0057 - mae: 0.0567 - val_loss: 0.0449 - val_mae: 0.1674\n",
      "Epoch 9/20\n",
      "420/420 [==============================] - 290s 690ms/step - loss: 0.0050 - mae: 0.0531 - val_loss: 0.0441 - val_mae: 0.1663\n",
      "Epoch 10/20\n",
      "420/420 [==============================] - 313s 745ms/step - loss: 0.0045 - mae: 0.0504 - val_loss: 0.0451 - val_mae: 0.1679\n",
      "Epoch 11/20\n",
      "420/420 [==============================] - 299s 710ms/step - loss: 0.0042 - mae: 0.0489 - val_loss: 0.0466 - val_mae: 0.1706\n",
      "Epoch 12/20\n",
      "420/420 [==============================] - 308s 733ms/step - loss: 0.0039 - mae: 0.0475 - val_loss: 0.0456 - val_mae: 0.1692\n",
      "Epoch 13/20\n",
      "420/420 [==============================] - 300s 715ms/step - loss: 0.0038 - mae: 0.0462 - val_loss: 0.0442 - val_mae: 0.1664\n",
      "Epoch 14/20\n",
      "420/420 [==============================] - 310s 737ms/step - loss: 0.0036 - mae: 0.0455 - val_loss: 0.0451 - val_mae: 0.1680\n",
      "Epoch 15/20\n",
      "420/420 [==============================] - 295s 702ms/step - loss: 0.0034 - mae: 0.0440 - val_loss: 0.0446 - val_mae: 0.1678\n",
      "Epoch 16/20\n",
      "420/420 [==============================] - 302s 719ms/step - loss: 0.0034 - mae: 0.0438 - val_loss: 0.0447 - val_mae: 0.1672\n",
      "Epoch 17/20\n",
      "420/420 [==============================] - 301s 717ms/step - loss: 0.0033 - mae: 0.0428 - val_loss: 0.0443 - val_mae: 0.1669\n",
      "Epoch 18/20\n",
      "420/420 [==============================] - 303s 723ms/step - loss: 0.0031 - mae: 0.0417 - val_loss: 0.0442 - val_mae: 0.1664\n",
      "Epoch 19/20\n",
      "420/420 [==============================] - 294s 699ms/step - loss: 0.0031 - mae: 0.0419 - val_loss: 0.0449 - val_mae: 0.1675\n",
      "Epoch 20/20\n",
      "420/420 [==============================] - 305s 726ms/step - loss: 0.0030 - mae: 0.0410 - val_loss: 0.0446 - val_mae: 0.1671\n"
     ]
    },
    {
     "data": {
      "text/plain": [
       "<keras.callbacks.History at 0x7f29e9c28970>"
      ]
     },
     "execution_count": 10,
     "metadata": {},
     "output_type": "execute_result"
    }
   ],
   "source": [
    "# Train the model\n",
    "batch_size = 64\n",
    "epochs = 20\n",
    "\n",
    "model.fit(X_train, y_train, batch_size=batch_size, epochs=epochs, validation_split=0.2, verbose=1)\n"
   ]
  },
  {
   "cell_type": "code",
   "execution_count": 12,
   "metadata": {
    "colab": {
     "base_uri": "https://localhost:8080/",
     "height": 447
    },
    "id": "Qj2zdxzKCbd2",
    "outputId": "6e060db3-1b90-490b-87d3-1e85b67c6aad"
   },
   "outputs": [
    {
     "data": {
      "text/plain": [
       "<Axes: >"
      ]
     },
     "execution_count": 12,
     "metadata": {},
     "output_type": "execute_result"
    },
    {
     "data": {
      "image/png": "[encoded data removed]",
      "text/plain": [
       "<Figure size 640x480 with 1 Axes>"
      ]
     },
     "metadata": {},
     "output_type": "display_data"
    }
   ],
   "source": [
    "model_losses = pd.DataFrame(model.history.history)\n",
    "model_losses.plot()"
   ]
  },
  {
   "cell_type": "code",
   "execution_count": 13,
   "metadata": {
    "colab": {
     "base_uri": "https://localhost:8080/"
    },
    "id": "osFrUWQAsLxy",
    "outputId": "8898617d-eb60-4f0e-f831-57c740bbfff0"
   },
   "outputs": [
    {
     "name": "stdout",
     "output_type": "stream",
     "text": [
      "263/263 [==============================] - 18s 57ms/step\n"
     ]
    }
   ],
   "source": [
    "# Predicting the values\n",
    "y_pred = model.predict(X_test)"
   ]
  },
  {
   "cell_type": "markdown",
   "metadata": {},
   "source": [
    "## Model Performace"
   ]
  },
  {
   "cell_type": "code",
   "execution_count": 14,
   "metadata": {
    "colab": {
     "base_uri": "https://localhost:8080/"
    },
    "id": "Btom1X9AsZNE",
    "outputId": "e62fe36d-5b85-4564-8a93-ac47506c8bfe"
   },
   "outputs": [
    {
     "name": "stdout",
     "output_type": "stream",
     "text": [
      "Mean Absolute Error: 0.16926953782466247\n"
     ]
    }
   ],
   "source": [
    "# Calculate Mean Absolute Error\n",
    "mae = mean_absolute_error(y_test, y_pred)\n",
    "print(f'Mean Absolute Error: {mae}')"
   ]
  },
  {
   "cell_type": "code",
   "execution_count": 16,
   "metadata": {
    "colab": {
     "base_uri": "https://localhost:8080/"
    },
    "id": "Lkhg23qbseiE",
    "outputId": "da2e49b4-add1-43fe-f3e8-c87a33382e88"
   },
   "outputs": [
    {
     "name": "stdout",
     "output_type": "stream",
     "text": [
      "Mean Squared Error: 0.04508657011284038\n"
     ]
    }
   ],
   "source": [
    "#Calculate Mean Squared Error\n",
    "mse = mean_squared_error(y_test, y_pred)\n",
    "print(\"Mean Squared Error:\", mse)"
   ]
  },
  {
   "cell_type": "code",
   "execution_count": null,
   "metadata": {
    "id": "HK2JOoXds3eK"
   },
   "outputs": [],
   "source": []
  }
 ],
 "metadata": {
  "colab": {
   "provenance": []
  },
  "kernelspec": {
   "display_name": "Python 3 (ipykernel)",
   "language": "python",
   "name": "python3"
  },
  "language_info": {
   "codemirror_mode": {
    "name": "ipython",
    "version": 3
   },
   "file_extension": ".py",
   "mimetype": "text/x-python",
   "name": "python",
   "nbconvert_exporter": "python",
   "pygments_lexer": "ipython3",
   "version": "3.9.13"
  }
 },
 "nbformat": 4,
 "nbformat_minor": 1
}
