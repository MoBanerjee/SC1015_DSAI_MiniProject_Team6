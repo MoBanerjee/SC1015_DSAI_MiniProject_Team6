{
 "cells": [
  {
   "cell_type": "markdown",
   "metadata": {},
   "source": [
    "# Neural Networks\n",
    "\n",
    "## Statistical Data"
   ]
  },
  {
   "cell_type": "code",
   "execution_count": 1,
   "metadata": {
    "id": "n7vXiWTEhyzj"
   },
   "outputs": [],
   "source": [
    "import pandas as pd\n",
    "import matplotlib.pyplot as plt\n",
    "from sklearn.metrics import accuracy_score, mean_absolute_error, mean_squared_error\n",
    "from keras.models import Sequential\n",
    "from keras.layers import Activation, Dense, Dropout, Embedding, Flatten, Conv1D, MaxPooling1D, LSTM\n",
    "from keras.callbacks import EarlyStopping\n",
    "from keras import utils\n",
    "from sklearn.model_selection import train_test_split"
   ]
  },
  {
   "cell_type": "code",
   "execution_count": 2,
   "metadata": {
    "id": "BR1M-5Aeh9SS"
   },
   "outputs": [],
   "source": [
    "dataset = pd.read_csv('https://github.com/ShrivardhanGoenka/Nothing/blob/main/dataCleaned.csv?raw=true')"
   ]
  },
  {
   "cell_type": "code",
   "execution_count": 3,
   "metadata": {
    "id": "wzGByGDYiJLk"
   },
   "outputs": [],
   "source": [
    "final_X_Data = dataset[['duration_ms', 'danceability', 'energy','key', 'loudness','mode','speechiness', 'acousticness', 'instrumentalness', 'liveness', 'valence', 'tempo']]"
   ]
  },
  {
   "cell_type": "code",
   "execution_count": 4,
   "metadata": {
    "id": "3Ypn3l6gikda"
   },
   "outputs": [],
   "source": [
    "final_Y_Data = dataset['popularity']"
   ]
  },
  {
   "cell_type": "code",
   "execution_count": 5,
   "metadata": {
    "id": "9L8SrmlHi3sa"
   },
   "outputs": [],
   "source": [
    "X_train, X_test, Y_train, Y_test = train_test_split(final_X_Data, final_Y_Data, test_size=0.2, random_state=0)"
   ]
  },
  {
   "cell_type": "code",
   "execution_count": 6,
   "metadata": {
    "colab": {
     "base_uri": "https://localhost:8080/"
    },
    "id": "QA2zrzDRjRkC",
    "outputId": "6f712c5e-f5b1-4990-d819-ff02502aee20"
   },
   "outputs": [
    {
     "name": "stdout",
     "output_type": "stream",
     "text": [
      "Size of training data: 33536\n",
      "Size of testing data: 8385\n"
     ]
    }
   ],
   "source": [
    "print('Size of training data:', len(X_train))\n",
    "print('Size of testing data:', len(X_test))"
   ]
  },
  {
   "cell_type": "code",
   "execution_count": 7,
   "metadata": {
    "colab": {
     "base_uri": "https://localhost:8080/"
    },
    "id": "df-nqsFljkfl",
    "outputId": "f6d508d5-8ee4-4055-8005-2de513905805"
   },
   "outputs": [
    {
     "name": "stdout",
     "output_type": "stream",
     "text": [
      "<class 'pandas.core.frame.DataFrame'>\n",
      "Int64Index: 33536 entries, 18937 to 2732\n",
      "Data columns (total 12 columns):\n",
      " #   Column            Non-Null Count  Dtype  \n",
      "---  ------            --------------  -----  \n",
      " 0   duration_ms       33536 non-null  float64\n",
      " 1   danceability      33536 non-null  float64\n",
      " 2   energy            33536 non-null  float64\n",
      " 3   key               33536 non-null  float64\n",
      " 4   loudness          33536 non-null  float64\n",
      " 5   mode              33536 non-null  float64\n",
      " 6   speechiness       33536 non-null  float64\n",
      " 7   acousticness      33536 non-null  float64\n",
      " 8   instrumentalness  33536 non-null  float64\n",
      " 9   liveness          33536 non-null  float64\n",
      " 10  valence           33536 non-null  float64\n",
      " 11  tempo             33536 non-null  float64\n",
      "dtypes: float64(12)\n",
      "memory usage: 3.3 MB\n"
     ]
    }
   ],
   "source": [
    "X_train.info()"
   ]
  },
  {
   "cell_type": "code",
   "execution_count": 8,
   "metadata": {
    "id": "a7eQZjbDjnHZ"
   },
   "outputs": [],
   "source": [
    "callback = EarlyStopping(monitor='val_loss', patience = 8)"
   ]
  },
  {
   "cell_type": "code",
   "execution_count": 9,
   "metadata": {
    "id": "l0cz1gA4jyHA"
   },
   "outputs": [],
   "source": [
    "Model1 = Sequential()\n",
    "\n",
    "Model1.add(Dense(32, activation='relu', input_dim=X_train.shape[1]))\n",
    "Model1.add(Dense(16, activation='relu'))\n",
    "Model1.add(Dense(8, activation='relu'))\n",
    "Model1.add(Dense(1, activation='linear'))"
   ]
  },
  {
   "cell_type": "code",
   "execution_count": 10,
   "metadata": {
    "id": "h5hcjekDkDHN"
   },
   "outputs": [],
   "source": [
    "# Compile the model\n",
    "Model1.compile(loss='mean_squared_error', optimizer='adam')\n"
   ]
  },
  {
   "cell_type": "code",
   "execution_count": 11,
   "metadata": {
    "colab": {
     "base_uri": "https://localhost:8080/"
    },
    "id": "DOmL_eSakI0O",
    "outputId": "d7fbd2f9-dc15-43fa-c331-4e19c9dade28"
   },
   "outputs": [
    {
     "name": "stdout",
     "output_type": "stream",
     "text": [
      "Epoch 1/100\n",
      "1048/1048 [==============================] - 3s 2ms/step - loss: 0.0301 - val_loss: 0.0299\n",
      "Epoch 2/100\n",
      "1048/1048 [==============================] - 2s 2ms/step - loss: 0.0285 - val_loss: 0.0280\n",
      "Epoch 3/100\n",
      "1048/1048 [==============================] - 2s 2ms/step - loss: 0.0283 - val_loss: 0.0273\n",
      "Epoch 4/100\n",
      "1048/1048 [==============================] - 3s 3ms/step - loss: 0.0281 - val_loss: 0.0277\n",
      "Epoch 5/100\n",
      "1048/1048 [==============================] - 2s 2ms/step - loss: 0.0279 - val_loss: 0.0272\n",
      "Epoch 6/100\n",
      "1048/1048 [==============================] - 2s 2ms/step - loss: 0.0277 - val_loss: 0.0270\n",
      "Epoch 7/100\n",
      "1048/1048 [==============================] - 2s 2ms/step - loss: 0.0276 - val_loss: 0.0269\n",
      "Epoch 8/100\n",
      "1048/1048 [==============================] - 2s 2ms/step - loss: 0.0274 - val_loss: 0.0270\n",
      "Epoch 9/100\n",
      "1048/1048 [==============================] - 3s 3ms/step - loss: 0.0273 - val_loss: 0.0271\n",
      "Epoch 10/100\n",
      "1048/1048 [==============================] - 2s 2ms/step - loss: 0.0273 - val_loss: 0.0267\n",
      "Epoch 11/100\n",
      "1048/1048 [==============================] - 2s 2ms/step - loss: 0.0271 - val_loss: 0.0273\n",
      "Epoch 12/100\n",
      "1048/1048 [==============================] - 2s 2ms/step - loss: 0.0270 - val_loss: 0.0268\n",
      "Epoch 13/100\n",
      "1048/1048 [==============================] - 2s 2ms/step - loss: 0.0270 - val_loss: 0.0265\n",
      "Epoch 14/100\n",
      "1048/1048 [==============================] - 2s 2ms/step - loss: 0.0270 - val_loss: 0.0275\n",
      "Epoch 15/100\n",
      "1048/1048 [==============================] - 3s 3ms/step - loss: 0.0269 - val_loss: 0.0268\n",
      "Epoch 16/100\n",
      "1048/1048 [==============================] - 3s 2ms/step - loss: 0.0268 - val_loss: 0.0263\n",
      "Epoch 17/100\n",
      "1048/1048 [==============================] - 3s 3ms/step - loss: 0.0268 - val_loss: 0.0261\n",
      "Epoch 18/100\n",
      "1048/1048 [==============================] - 2s 2ms/step - loss: 0.0267 - val_loss: 0.0261\n",
      "Epoch 19/100\n",
      "1048/1048 [==============================] - 3s 3ms/step - loss: 0.0267 - val_loss: 0.0264\n",
      "Epoch 20/100\n",
      "1048/1048 [==============================] - 3s 3ms/step - loss: 0.0267 - val_loss: 0.0265\n",
      "Epoch 21/100\n",
      "1048/1048 [==============================] - 2s 2ms/step - loss: 0.0266 - val_loss: 0.0263\n",
      "Epoch 22/100\n",
      "1048/1048 [==============================] - 2s 2ms/step - loss: 0.0266 - val_loss: 0.0265\n",
      "Epoch 23/100\n",
      "1048/1048 [==============================] - 2s 2ms/step - loss: 0.0265 - val_loss: 0.0260\n",
      "Epoch 24/100\n",
      "1048/1048 [==============================] - 2s 2ms/step - loss: 0.0265 - val_loss: 0.0262\n",
      "Epoch 25/100\n",
      "1048/1048 [==============================] - 3s 3ms/step - loss: 0.0264 - val_loss: 0.0263\n",
      "Epoch 26/100\n",
      "1048/1048 [==============================] - 2s 2ms/step - loss: 0.0264 - val_loss: 0.0259\n",
      "Epoch 27/100\n",
      "1048/1048 [==============================] - 2s 2ms/step - loss: 0.0264 - val_loss: 0.0261\n",
      "Epoch 28/100\n",
      "1048/1048 [==============================] - 2s 2ms/step - loss: 0.0263 - val_loss: 0.0260\n",
      "Epoch 29/100\n",
      "1048/1048 [==============================] - 2s 2ms/step - loss: 0.0262 - val_loss: 0.0260\n",
      "Epoch 30/100\n",
      "1048/1048 [==============================] - 3s 3ms/step - loss: 0.0263 - val_loss: 0.0259\n",
      "Epoch 31/100\n",
      "1048/1048 [==============================] - 3s 2ms/step - loss: 0.0262 - val_loss: 0.0261\n",
      "Epoch 32/100\n",
      "1048/1048 [==============================] - 2s 2ms/step - loss: 0.0262 - val_loss: 0.0260\n",
      "Epoch 33/100\n",
      "1048/1048 [==============================] - 3s 3ms/step - loss: 0.0262 - val_loss: 0.0259\n",
      "Epoch 34/100\n",
      "1048/1048 [==============================] - 5s 5ms/step - loss: 0.0262 - val_loss: 0.0260\n"
     ]
    }
   ],
   "source": [
    "history = Model1.fit(x = X_train,y=  Y_train,validation_data=(X_test, Y_test) , epochs=100, batch_size=32, callbacks=callback)"
   ]
  },
  {
   "cell_type": "code",
   "execution_count": 12,
   "metadata": {
    "colab": {
     "base_uri": "https://localhost:8080/",
     "height": 447
    },
    "id": "rPy7E71ikbUS",
    "outputId": "4ea25b98-dd19-4801-9f73-b8c4ca134d0d"
   },
   "outputs": [
    {
     "data": {
      "text/plain": [
       "<Axes: >"
      ]
     },
     "execution_count": 12,
     "metadata": {},
     "output_type": "execute_result"
    },
    {
     "data": {
      "image/png": "[encoded data removed]",
      "text/plain": [
       "<Figure size 640x480 with 1 Axes>"
      ]
     },
     "metadata": {},
     "output_type": "display_data"
    }
   ],
   "source": [
    "model_losses = pd.DataFrame(Model1.history.history)\n",
    "model_losses.plot()"
   ]
  },
  {
   "cell_type": "code",
   "execution_count": 13,
   "metadata": {
    "colab": {
     "base_uri": "https://localhost:8080/"
    },
    "id": "qXTW6HMJmM3Z",
    "outputId": "65d0283e-d90a-45f6-8769-8b5fca21cc19"
   },
   "outputs": [
    {
     "name": "stdout",
     "output_type": "stream",
     "text": [
      "263/263 [==============================] - 0s 1ms/step\n"
     ]
    }
   ],
   "source": [
    "predictions = Model1.predict(X_test)"
   ]
  },
  {
   "cell_type": "markdown",
   "metadata": {},
   "source": [
    "## Model Performance"
   ]
  },
  {
   "cell_type": "code",
   "execution_count": 14,
   "metadata": {
    "colab": {
     "base_uri": "https://localhost:8080/"
    },
    "id": "PhCPaHpSmjMW",
    "outputId": "c462eb1c-db07-4906-f5e0-157713d8a6d1"
   },
   "outputs": [
    {
     "data": {
      "text/plain": [
       "0.1270828745284773"
      ]
     },
     "execution_count": 14,
     "metadata": {},
     "output_type": "execute_result"
    }
   ],
   "source": [
    "mean_absolute_error(Y_test, predictions)"
   ]
  },
  {
   "cell_type": "code",
   "execution_count": 15,
   "metadata": {
    "colab": {
     "base_uri": "https://localhost:8080/"
    },
    "id": "68oa1YPHms5C",
    "outputId": "c6657e8b-7809-454c-e6d2-650b49c7914a"
   },
   "outputs": [
    {
     "data": {
      "text/plain": [
       "0.026014470953904592"
      ]
     },
     "execution_count": 15,
     "metadata": {},
     "output_type": "execute_result"
    }
   ],
   "source": [
    "mean_squared_error(Y_test, predictions)"
   ]
  }
 ],
 "metadata": {
  "colab": {
   "provenance": []
  },
  "kernelspec": {
   "display_name": "Python 3 (ipykernel)",
   "language": "python",
   "name": "python3"
  },
  "language_info": {
   "codemirror_mode": {
    "name": "ipython",
    "version": 3
   },
   "file_extension": ".py",
   "mimetype": "text/x-python",
   "name": "python",
   "nbconvert_exporter": "python",
   "pygments_lexer": "ipython3",
   "version": "3.9.13"
  }
 },
 "nbformat": 4,
 "nbformat_minor": 1
}
